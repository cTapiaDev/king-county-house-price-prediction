{
  "nbformat": 4,
  "nbformat_minor": 0,
  "metadata": {
    "colab": {
      "provenance": [],
      "authorship_tag": "ABX9TyPGIuJqFQcubZLxP8/TTUDh",
      "include_colab_link": true
    },
    "kernelspec": {
      "name": "python3",
      "display_name": "Python 3"
    },
    "language_info": {
      "name": "python"
    }
  },
  "cells": [
    {
      "cell_type": "markdown",
      "metadata": {
        "id": "view-in-github",
        "colab_type": "text"
      },
      "source": [
        "<a href=\"https://colab.research.google.com/github/cTapiaDev/king-county-house-price-prediction/blob/main/TareaM%C3%B3dulo4_AnalisisYPrediccionDePrecios_CarlosTapia.ipynb\" target=\"_parent\"><img src=\"https://colab.research.google.com/assets/colab-badge.svg\" alt=\"Open In Colab\"/></a>"
      ]
    },
    {
      "cell_type": "code",
      "execution_count": 1,
      "metadata": {
        "id": "woagWhiq81AH"
      },
      "outputs": [],
      "source": [
        "# Importar las biblioteca\n",
        "import pandas as pd\n",
        "import matplotlib.pyplot as plt\n",
        "import seaborn as sns\n",
        "from sklearn.preprocessing import MinMaxScaler, OneHotEncoder\n",
        "from sklearn.model_selection import train_test_split\n",
        "from sklearn.linear_model import LinearRegression\n",
        "from sklearn.metrics import mean_squared_error, r2_score\n",
        "import numpy as np"
      ]
    },
    {
      "cell_type": "code",
      "source": [
        "# Cargar el archivo CSV\n",
        "file_path = 'kc_house_data.csv'\n",
        "df = pd.read_csv(file_path)"
      ],
      "metadata": {
        "id": "E4BMs5oS-bJb"
      },
      "execution_count": 2,
      "outputs": []
    },
    {
      "cell_type": "code",
      "source": [
        "# Mostrar las primeras files del DataFrame\n",
        "print(\"--- Primeras filas del Dataframe ---\")\n",
        "print(df.head(10))"
      ],
      "metadata": {
        "colab": {
          "base_uri": "https://localhost:8080/"
        },
        "id": "k_oFNCPs-oy-",
        "outputId": "37b3d6d9-f43f-49c7-cab1-f392a4240b9b"
      },
      "execution_count": 3,
      "outputs": [
        {
          "output_type": "stream",
          "name": "stdout",
          "text": [
            "--- Primeras filas del Dataframe ---\n",
            "           id             date      price  bedrooms  bathrooms  sqft_living  \\\n",
            "0  7129300520  20141013T000000   221900.0         3       1.00         1180   \n",
            "1  6414100192  20141209T000000   538000.0         3       2.25         2570   \n",
            "2  5631500400  20150225T000000   180000.0         2       1.00          770   \n",
            "3  2487200875  20141209T000000   604000.0         4       3.00         1960   \n",
            "4  1954400510  20150218T000000   510000.0         3       2.00         1680   \n",
            "5  7237550310  20140512T000000  1225000.0         4       4.50         5420   \n",
            "6  1321400060  20140627T000000   257500.0         3       2.25         1715   \n",
            "7  2008000270  20150115T000000   291850.0         3       1.50         1060   \n",
            "8  2414600126  20150415T000000   229500.0         3       1.00         1780   \n",
            "9  3793500160  20150312T000000   323000.0         3       2.50         1890   \n",
            "\n",
            "   sqft_lot  floors  waterfront  view  ...  grade  sqft_above  sqft_basement  \\\n",
            "0      5650     1.0           0     0  ...      7        1180              0   \n",
            "1      7242     2.0           0     0  ...      7        2170            400   \n",
            "2     10000     1.0           0     0  ...      6         770              0   \n",
            "3      5000     1.0           0     0  ...      7        1050            910   \n",
            "4      8080     1.0           0     0  ...      8        1680              0   \n",
            "5    101930     1.0           0     0  ...     11        3890           1530   \n",
            "6      6819     2.0           0     0  ...      7        1715              0   \n",
            "7      9711     1.0           0     0  ...      7        1060              0   \n",
            "8      7470     1.0           0     0  ...      7        1050            730   \n",
            "9      6560     2.0           0     0  ...      7        1890              0   \n",
            "\n",
            "   yr_built  yr_renovated  zipcode      lat     long  sqft_living15  \\\n",
            "0      1955             0    98178  47.5112 -122.257           1340   \n",
            "1      1951          1991    98125  47.7210 -122.319           1690   \n",
            "2      1933             0    98028  47.7379 -122.233           2720   \n",
            "3      1965             0    98136  47.5208 -122.393           1360   \n",
            "4      1987             0    98074  47.6168 -122.045           1800   \n",
            "5      2001             0    98053  47.6561 -122.005           4760   \n",
            "6      1995             0    98003  47.3097 -122.327           2238   \n",
            "7      1963             0    98198  47.4095 -122.315           1650   \n",
            "8      1960             0    98146  47.5123 -122.337           1780   \n",
            "9      2003             0    98038  47.3684 -122.031           2390   \n",
            "\n",
            "   sqft_lot15  \n",
            "0        5650  \n",
            "1        7639  \n",
            "2        8062  \n",
            "3        5000  \n",
            "4        7503  \n",
            "5      101930  \n",
            "6        6819  \n",
            "7        9711  \n",
            "8        8113  \n",
            "9        7570  \n",
            "\n",
            "[10 rows x 21 columns]\n"
          ]
        }
      ]
    },
    {
      "cell_type": "code",
      "source": [
        "# Inspección General del DataFrame\n",
        "print(\"\\n--- Información general del DataFrame ---\")\n",
        "df.info()\n",
        "\n",
        "print(\"\\n--- Resumen estadístico de las columnas numéricas ---\")\n",
        "print(df.describe())"
      ],
      "metadata": {
        "colab": {
          "base_uri": "https://localhost:8080/"
        },
        "id": "LKP4YvdP_F6B",
        "outputId": "728a4342-68bb-496b-bfac-abe1e26656e1"
      },
      "execution_count": 4,
      "outputs": [
        {
          "output_type": "stream",
          "name": "stdout",
          "text": [
            "\n",
            "--- Información general del DataFrame ---\n",
            "<class 'pandas.core.frame.DataFrame'>\n",
            "RangeIndex: 21613 entries, 0 to 21612\n",
            "Data columns (total 21 columns):\n",
            " #   Column         Non-Null Count  Dtype  \n",
            "---  ------         --------------  -----  \n",
            " 0   id             21613 non-null  int64  \n",
            " 1   date           21613 non-null  object \n",
            " 2   price          21613 non-null  float64\n",
            " 3   bedrooms       21613 non-null  int64  \n",
            " 4   bathrooms      21613 non-null  float64\n",
            " 5   sqft_living    21613 non-null  int64  \n",
            " 6   sqft_lot       21613 non-null  int64  \n",
            " 7   floors         21613 non-null  float64\n",
            " 8   waterfront     21613 non-null  int64  \n",
            " 9   view           21613 non-null  int64  \n",
            " 10  condition      21613 non-null  int64  \n",
            " 11  grade          21613 non-null  int64  \n",
            " 12  sqft_above     21613 non-null  int64  \n",
            " 13  sqft_basement  21613 non-null  int64  \n",
            " 14  yr_built       21613 non-null  int64  \n",
            " 15  yr_renovated   21613 non-null  int64  \n",
            " 16  zipcode        21613 non-null  int64  \n",
            " 17  lat            21613 non-null  float64\n",
            " 18  long           21613 non-null  float64\n",
            " 19  sqft_living15  21613 non-null  int64  \n",
            " 20  sqft_lot15     21613 non-null  int64  \n",
            "dtypes: float64(5), int64(15), object(1)\n",
            "memory usage: 3.5+ MB\n",
            "\n",
            "--- Resumen estadístico de las columnas numéricas ---\n",
            "                 id         price      bedrooms     bathrooms   sqft_living  \\\n",
            "count  2.161300e+04  2.161300e+04  21613.000000  21613.000000  21613.000000   \n",
            "mean   4.580302e+09  5.400881e+05      3.370842      2.114757   2079.899736   \n",
            "std    2.876566e+09  3.671272e+05      0.930062      0.770163    918.440897   \n",
            "min    1.000102e+06  7.500000e+04      0.000000      0.000000    290.000000   \n",
            "25%    2.123049e+09  3.219500e+05      3.000000      1.750000   1427.000000   \n",
            "50%    3.904930e+09  4.500000e+05      3.000000      2.250000   1910.000000   \n",
            "75%    7.308900e+09  6.450000e+05      4.000000      2.500000   2550.000000   \n",
            "max    9.900000e+09  7.700000e+06     33.000000      8.000000  13540.000000   \n",
            "\n",
            "           sqft_lot        floors    waterfront          view     condition  \\\n",
            "count  2.161300e+04  21613.000000  21613.000000  21613.000000  21613.000000   \n",
            "mean   1.510697e+04      1.494309      0.007542      0.234303      3.409430   \n",
            "std    4.142051e+04      0.539989      0.086517      0.766318      0.650743   \n",
            "min    5.200000e+02      1.000000      0.000000      0.000000      1.000000   \n",
            "25%    5.040000e+03      1.000000      0.000000      0.000000      3.000000   \n",
            "50%    7.618000e+03      1.500000      0.000000      0.000000      3.000000   \n",
            "75%    1.068800e+04      2.000000      0.000000      0.000000      4.000000   \n",
            "max    1.651359e+06      3.500000      1.000000      4.000000      5.000000   \n",
            "\n",
            "              grade    sqft_above  sqft_basement      yr_built  yr_renovated  \\\n",
            "count  21613.000000  21613.000000   21613.000000  21613.000000  21613.000000   \n",
            "mean       7.656873   1788.390691     291.509045   1971.005136     84.402258   \n",
            "std        1.175459    828.090978     442.575043     29.373411    401.679240   \n",
            "min        1.000000    290.000000       0.000000   1900.000000      0.000000   \n",
            "25%        7.000000   1190.000000       0.000000   1951.000000      0.000000   \n",
            "50%        7.000000   1560.000000       0.000000   1975.000000      0.000000   \n",
            "75%        8.000000   2210.000000     560.000000   1997.000000      0.000000   \n",
            "max       13.000000   9410.000000    4820.000000   2015.000000   2015.000000   \n",
            "\n",
            "            zipcode           lat          long  sqft_living15     sqft_lot15  \n",
            "count  21613.000000  21613.000000  21613.000000   21613.000000   21613.000000  \n",
            "mean   98077.939805     47.560053   -122.213896    1986.552492   12768.455652  \n",
            "std       53.505026      0.138564      0.140828     685.391304   27304.179631  \n",
            "min    98001.000000     47.155900   -122.519000     399.000000     651.000000  \n",
            "25%    98033.000000     47.471000   -122.328000    1490.000000    5100.000000  \n",
            "50%    98065.000000     47.571800   -122.230000    1840.000000    7620.000000  \n",
            "75%    98118.000000     47.678000   -122.125000    2360.000000   10083.000000  \n",
            "max    98199.000000     47.777600   -121.315000    6210.000000  871200.000000  \n"
          ]
        }
      ]
    },
    {
      "cell_type": "code",
      "source": [
        "# Verificación de Valores Nulos\n",
        "print(\"\\n--- Cantidad de valores nulos por columna ---\")\n",
        "print(df.isnull().sum())\n",
        "\n",
        "# Crear una copia del DataFrame original para trabajar en ella\n",
        "df_clean = df.copy()\n",
        "\n",
        "# Eliminar las columnas 'sqft_basement' y 'yr_renovated' del DataFrame df_clean.\n",
        "# Estas columnas pueden tener muchos valores nulos o ceros si no hubo sótano o renovación.\n",
        "# y por ahora, para simplificar, las eliminamos.\n",
        "df_clean = df_clean.drop(columns=['sqft_basement', 'yr_renovated'])\n",
        "\n",
        "print(\"\\n--- DataFrame después de eliminar columnas con nulos significativos ---\")\n",
        "print(df_clean.head())\n",
        "print(\"Columnas restantes:\", df_clean.columns.tolist())"
      ],
      "metadata": {
        "colab": {
          "base_uri": "https://localhost:8080/"
        },
        "id": "EsHJZACi_mvS",
        "outputId": "c4049daa-d013-4137-95c2-2ba44e434890"
      },
      "execution_count": 5,
      "outputs": [
        {
          "output_type": "stream",
          "name": "stdout",
          "text": [
            "\n",
            "--- Cantidad de valores nulos por columna ---\n",
            "id               0\n",
            "date             0\n",
            "price            0\n",
            "bedrooms         0\n",
            "bathrooms        0\n",
            "sqft_living      0\n",
            "sqft_lot         0\n",
            "floors           0\n",
            "waterfront       0\n",
            "view             0\n",
            "condition        0\n",
            "grade            0\n",
            "sqft_above       0\n",
            "sqft_basement    0\n",
            "yr_built         0\n",
            "yr_renovated     0\n",
            "zipcode          0\n",
            "lat              0\n",
            "long             0\n",
            "sqft_living15    0\n",
            "sqft_lot15       0\n",
            "dtype: int64\n",
            "\n",
            "--- DataFrame después de eliminar columnas con nulos significativos ---\n",
            "           id             date     price  bedrooms  bathrooms  sqft_living  \\\n",
            "0  7129300520  20141013T000000  221900.0         3       1.00         1180   \n",
            "1  6414100192  20141209T000000  538000.0         3       2.25         2570   \n",
            "2  5631500400  20150225T000000  180000.0         2       1.00          770   \n",
            "3  2487200875  20141209T000000  604000.0         4       3.00         1960   \n",
            "4  1954400510  20150218T000000  510000.0         3       2.00         1680   \n",
            "\n",
            "   sqft_lot  floors  waterfront  view  condition  grade  sqft_above  yr_built  \\\n",
            "0      5650     1.0           0     0          3      7        1180      1955   \n",
            "1      7242     2.0           0     0          3      7        2170      1951   \n",
            "2     10000     1.0           0     0          3      6         770      1933   \n",
            "3      5000     1.0           0     0          5      7        1050      1965   \n",
            "4      8080     1.0           0     0          3      8        1680      1987   \n",
            "\n",
            "   zipcode      lat     long  sqft_living15  sqft_lot15  \n",
            "0    98178  47.5112 -122.257           1340        5650  \n",
            "1    98125  47.7210 -122.319           1690        7639  \n",
            "2    98028  47.7379 -122.233           2720        8062  \n",
            "3    98136  47.5208 -122.393           1360        5000  \n",
            "4    98074  47.6168 -122.045           1800        7503  \n",
            "Columnas restantes: ['id', 'date', 'price', 'bedrooms', 'bathrooms', 'sqft_living', 'sqft_lot', 'floors', 'waterfront', 'view', 'condition', 'grade', 'sqft_above', 'yr_built', 'zipcode', 'lat', 'long', 'sqft_living15', 'sqft_lot15']\n"
          ]
        }
      ]
    },
    {
      "cell_type": "code",
      "source": [
        "## Eliminar las columnas 'id' y 'date'\n",
        "df_clean = df_clean.drop(columns=['id', 'date'])\n",
        "print(\"\\n--- DataFrame después de eliminar 'id' y 'date' ---\")\n",
        "print(df_clean.head())\n",
        "\n",
        "# Contar valores de 0 en columnas clave para entender si hay errores\n",
        "print(\"\\n--- Conteo de valores '0' en columnas seleccionadas ---\")\n",
        "cols_to_check_zeros = ['sqft_living', 'sqft_lot', 'bedrooms', 'bathrooms', 'floors']\n",
        "for col in cols_to_check_zeros:\n",
        "  zero_count = (df_clean[col] == 0).sum()\n",
        "  print(f\"Columna '{col}': {zero_count} valores de 0\")\n",
        "# Nota: Un '0' en 'sqft_living' o 'sqft_lot' indica un error en los datos de una vivienda, ya que no puede haber una casa sin superficie habitable o terreno.\n",
        "# Un '0' en 'yr_renovated' no sería un error, sino que indica que no fue renovada.\n",
        "\n",
        "# Eliminar filas donde 'sqft_living' o 'sqft_lot' sean 0\n",
        "df_clean = df_clean[df_clean['sqft_living'] != 0]\n",
        "df_clean = df_clean[df_clean['sqft_lot'] != 0]\n",
        "print('\\n--- Dimensiones del DataFrame después de eliminar filas con 0 en sqft_living/sqft_lot ---')\n",
        "print(df_clean.shape)"
      ],
      "metadata": {
        "colab": {
          "base_uri": "https://localhost:8080/"
        },
        "id": "xKNHJtHeAlJD",
        "outputId": "67d89dac-1036-405e-9430-5ed00b1ddb01"
      },
      "execution_count": 6,
      "outputs": [
        {
          "output_type": "stream",
          "name": "stdout",
          "text": [
            "\n",
            "--- DataFrame después de eliminar 'id' y 'date' ---\n",
            "      price  bedrooms  bathrooms  sqft_living  sqft_lot  floors  waterfront  \\\n",
            "0  221900.0         3       1.00         1180      5650     1.0           0   \n",
            "1  538000.0         3       2.25         2570      7242     2.0           0   \n",
            "2  180000.0         2       1.00          770     10000     1.0           0   \n",
            "3  604000.0         4       3.00         1960      5000     1.0           0   \n",
            "4  510000.0         3       2.00         1680      8080     1.0           0   \n",
            "\n",
            "   view  condition  grade  sqft_above  yr_built  zipcode      lat     long  \\\n",
            "0     0          3      7        1180      1955    98178  47.5112 -122.257   \n",
            "1     0          3      7        2170      1951    98125  47.7210 -122.319   \n",
            "2     0          3      6         770      1933    98028  47.7379 -122.233   \n",
            "3     0          5      7        1050      1965    98136  47.5208 -122.393   \n",
            "4     0          3      8        1680      1987    98074  47.6168 -122.045   \n",
            "\n",
            "   sqft_living15  sqft_lot15  \n",
            "0           1340        5650  \n",
            "1           1690        7639  \n",
            "2           2720        8062  \n",
            "3           1360        5000  \n",
            "4           1800        7503  \n",
            "\n",
            "--- Conteo de valores '0' en columnas seleccionadas ---\n",
            "Columna 'sqft_living': 0 valores de 0\n",
            "Columna 'sqft_lot': 0 valores de 0\n",
            "Columna 'bedrooms': 13 valores de 0\n",
            "Columna 'bathrooms': 10 valores de 0\n",
            "Columna 'floors': 0 valores de 0\n",
            "\n",
            "--- Dimensiones del DataFrame después de eliminar filas con 0 en sqft_living/sqft_lot ---\n",
            "(21613, 17)\n"
          ]
        }
      ]
    },
    {
      "cell_type": "code",
      "source": [
        "# Columnas categóricas a las que aplicaremos One-Hot Encoding\n",
        "categorical_features_for_ohe = ['waterfront', 'view', 'condition', 'grade']\n",
        "\n",
        "# Mostrar valores únicos y conteo para estas columnas antes de codificar\n",
        "print(\"\\n--- Value Counts para características categóricas ---\")\n",
        "for col in categorical_features_for_ohe:\n",
        "  print(f\"\\nColumna '{col}':\")\n",
        "  print(df_clean[col].value_counts())\n",
        "\n",
        "# Inicializar el OneHotEncoder\n",
        "# sparse_output=False asegura que el resultado sea una matriz densa\n",
        "encoder = OneHotEncoder(handle_unknown='ignore', sparse_output=False)\n",
        "\n",
        "# Aplicar OneHotEncoder a las columnas categóricas del df_clean\n",
        "encoded_features = encoder.fit_transform(df_clean[categorical_features_for_ohe])\n",
        "\n",
        "# Obtener los nombres de las nuevas columnas creadas por el encoder\n",
        "encoded_features_names = encoder.get_feature_names_out(categorical_features_for_ohe)\n",
        "\n",
        "# Crear un DataFrame con las nuevas columnas codificadas\n",
        "encoded_df = pd.DataFrame(encoded_features, columns=encoded_features_names, index=df_clean.index)\n",
        "\n",
        "# Concatenar el DataFrame codificado con el DataFrame original\n",
        "df_processed = pd.concat([df_clean.drop(columns=categorical_features_for_ohe), encoded_df], axis=1)\n",
        "\n",
        "print(\"\\n--- DataFrame después de la codificación One-Hot (primeras filas) ---\")\n",
        "print(df_processed.head())\n",
        "print(\"\\n--- Columnas del DataFrame procesado ---\")\n",
        "print(df_processed.columns.tolist())"
      ],
      "metadata": {
        "colab": {
          "base_uri": "https://localhost:8080/"
        },
        "id": "ZrnynWbtCG0v",
        "outputId": "9063fce7-972b-443d-d92e-baf9a0278cd1"
      },
      "execution_count": 7,
      "outputs": [
        {
          "output_type": "stream",
          "name": "stdout",
          "text": [
            "\n",
            "--- Value Counts para características categóricas ---\n",
            "\n",
            "Columna 'waterfront':\n",
            "waterfront\n",
            "0    21450\n",
            "1      163\n",
            "Name: count, dtype: int64\n",
            "\n",
            "Columna 'view':\n",
            "view\n",
            "0    19489\n",
            "2      963\n",
            "3      510\n",
            "1      332\n",
            "4      319\n",
            "Name: count, dtype: int64\n",
            "\n",
            "Columna 'condition':\n",
            "condition\n",
            "3    14031\n",
            "4     5679\n",
            "5     1701\n",
            "2      172\n",
            "1       30\n",
            "Name: count, dtype: int64\n",
            "\n",
            "Columna 'grade':\n",
            "grade\n",
            "7     8981\n",
            "8     6068\n",
            "9     2615\n",
            "6     2038\n",
            "10    1134\n",
            "11     399\n",
            "5      242\n",
            "12      90\n",
            "4       29\n",
            "13      13\n",
            "3        3\n",
            "1        1\n",
            "Name: count, dtype: int64\n",
            "\n",
            "--- DataFrame después de la codificación One-Hot (primeras filas) ---\n",
            "      price  bedrooms  bathrooms  sqft_living  sqft_lot  floors  sqft_above  \\\n",
            "0  221900.0         3       1.00         1180      5650     1.0        1180   \n",
            "1  538000.0         3       2.25         2570      7242     2.0        2170   \n",
            "2  180000.0         2       1.00          770     10000     1.0         770   \n",
            "3  604000.0         4       3.00         1960      5000     1.0        1050   \n",
            "4  510000.0         3       2.00         1680      8080     1.0        1680   \n",
            "\n",
            "   yr_built  zipcode      lat  ...  grade_4  grade_5  grade_6  grade_7  \\\n",
            "0      1955    98178  47.5112  ...      0.0      0.0      0.0      1.0   \n",
            "1      1951    98125  47.7210  ...      0.0      0.0      0.0      1.0   \n",
            "2      1933    98028  47.7379  ...      0.0      0.0      1.0      0.0   \n",
            "3      1965    98136  47.5208  ...      0.0      0.0      0.0      1.0   \n",
            "4      1987    98074  47.6168  ...      0.0      0.0      0.0      0.0   \n",
            "\n",
            "   grade_8  grade_9  grade_10  grade_11  grade_12  grade_13  \n",
            "0      0.0      0.0       0.0       0.0       0.0       0.0  \n",
            "1      0.0      0.0       0.0       0.0       0.0       0.0  \n",
            "2      0.0      0.0       0.0       0.0       0.0       0.0  \n",
            "3      0.0      0.0       0.0       0.0       0.0       0.0  \n",
            "4      1.0      0.0       0.0       0.0       0.0       0.0  \n",
            "\n",
            "[5 rows x 37 columns]\n",
            "\n",
            "--- Columnas del DataFrame procesado ---\n",
            "['price', 'bedrooms', 'bathrooms', 'sqft_living', 'sqft_lot', 'floors', 'sqft_above', 'yr_built', 'zipcode', 'lat', 'long', 'sqft_living15', 'sqft_lot15', 'waterfront_0', 'waterfront_1', 'view_0', 'view_1', 'view_2', 'view_3', 'view_4', 'condition_1', 'condition_2', 'condition_3', 'condition_4', 'condition_5', 'grade_1', 'grade_3', 'grade_4', 'grade_5', 'grade_6', 'grade_7', 'grade_8', 'grade_9', 'grade_10', 'grade_11', 'grade_12', 'grade_13']\n"
          ]
        }
      ]
    },
    {
      "cell_type": "code",
      "source": [
        "# Identificar todas las columnas de características (X) que usaremos en el modelo\n",
        "# Excluimos 'price' porque es nuestra variable objetivo (Y)\n",
        "all_features = [col for col in df_processed.columns if col != 'price']\n",
        "\n",
        "# Inicializar y ajustar el MinMaxScaler a nuestras características (X)\n",
        "X_scaler = MinMaxScaler()\n",
        "df_processed[all_features] = X_scaler.fit_transform(df_processed[all_features])\n",
        "\n",
        "# También ajustamos un scaler específico para la columna 'price' para poder desnormalizarla al final\n",
        "price_scaler = MinMaxScaler()\n",
        "price_scaler.fit(df[['price']])\n",
        "\n",
        "print(\"\\n--- DataFrame final procesado y normalizado ---\")\n",
        "print(df_processed.head())"
      ],
      "metadata": {
        "colab": {
          "base_uri": "https://localhost:8080/"
        },
        "id": "Qz5Cr0NeDyEV",
        "outputId": "73550ece-003d-45cc-8123-f479ffdff1bf"
      },
      "execution_count": 8,
      "outputs": [
        {
          "output_type": "stream",
          "name": "stdout",
          "text": [
            "\n",
            "--- DataFrame final procesado y normalizado ---\n",
            "      price  bedrooms  bathrooms  sqft_living  sqft_lot  floors  sqft_above  \\\n",
            "0  221900.0  0.090909    0.12500     0.067170  0.003108     0.0    0.097588   \n",
            "1  538000.0  0.090909    0.28125     0.172075  0.004072     0.4    0.206140   \n",
            "2  180000.0  0.060606    0.12500     0.036226  0.005743     0.0    0.052632   \n",
            "3  604000.0  0.121212    0.37500     0.126038  0.002714     0.0    0.083333   \n",
            "4  510000.0  0.090909    0.25000     0.104906  0.004579     0.0    0.152412   \n",
            "\n",
            "   yr_built   zipcode       lat  ...  grade_4  grade_5  grade_6  grade_7  \\\n",
            "0  0.478261  0.893939  0.571498  ...      0.0      0.0      0.0      1.0   \n",
            "1  0.443478  0.626263  0.908959  ...      0.0      0.0      0.0      1.0   \n",
            "2  0.286957  0.136364  0.936143  ...      0.0      0.0      1.0      0.0   \n",
            "3  0.565217  0.681818  0.586939  ...      0.0      0.0      0.0      1.0   \n",
            "4  0.756522  0.368687  0.741354  ...      0.0      0.0      0.0      0.0   \n",
            "\n",
            "   grade_8  grade_9  grade_10  grade_11  grade_12  grade_13  \n",
            "0      0.0      0.0       0.0       0.0       0.0       0.0  \n",
            "1      0.0      0.0       0.0       0.0       0.0       0.0  \n",
            "2      0.0      0.0       0.0       0.0       0.0       0.0  \n",
            "3      0.0      0.0       0.0       0.0       0.0       0.0  \n",
            "4      1.0      0.0       0.0       0.0       0.0       0.0  \n",
            "\n",
            "[5 rows x 37 columns]\n"
          ]
        }
      ]
    },
    {
      "cell_type": "code",
      "source": [
        "# 1. Definir Características (X) y Variable Objetivo (Y)\n",
        "features = all_features\n",
        "target = 'price'\n",
        "\n",
        "x = df_processed[features]\n",
        "y = df_processed[target]\n",
        "\n",
        "# 2. Dividir Datos en Entrenamiento y Prueba\n",
        "x_train, x_test, y_train, y_test = train_test_split(x, y, test_size=0.2, random_state=42)\n",
        "\n",
        "# 3. Entrenar el Modelo\n",
        "modelo_final = LinearRegression()\n",
        "modelo_final.fit(x_train, y_train)\n",
        "\n",
        "# 4. Hacer Predicciones y Evaluar\n",
        "y_pred_final = modelo_final.predict(x_test)\n",
        "\n",
        "mse_final = mean_squared_error(y_test, y_pred_final)\n",
        "r2_final = r2_score(y_test, y_pred_final)\n",
        "\n",
        "print(\"\\n--- Resultados del Modelo Final ---\")\n",
        "print(f\" Mean Squared Error (MSE): {mse_final:.4f}\")\n",
        "print(f\" R-squared(R²): {r2_final:.4f}\")"
      ],
      "metadata": {
        "colab": {
          "base_uri": "https://localhost:8080/"
        },
        "id": "Z193JOUrEi3A",
        "outputId": "80a57c33-0eef-46aa-c4d6-793fececb736"
      },
      "execution_count": 9,
      "outputs": [
        {
          "output_type": "stream",
          "name": "stdout",
          "text": [
            "\n",
            "--- Resultados del Modelo Final ---\n",
            " Mean Squared Error (MSE): 40047705569.6588\n",
            " R-squared(R²): 0.7351\n"
          ]
        }
      ]
    },
    {
      "cell_type": "markdown",
      "source": [
        "# **Conclusiones**\n",
        "---\n",
        "---\n",
        "#### ¿Qué aprendiste sobre la importancia de preprocesar los datos, especialmente los categóricos?\n",
        "<hr>\n",
        "Aprendí que el preprocesamiento de datos no es un paso opcional, sino uno absolutamente esencial para que los modelos de Machine Learning puedan funcionar.\n",
        "<br><br>\n",
        "Me di cuenta de que un modelo como la Regresión Lineal no puede interpretar texto o categorías como 'waterfront' o 'condition' directamente. Necesita números para realizar cálculos matemáticos.\n",
        "<br><br>\n",
        "Para resolver esto, el tutorial me enseñó a usar la técnica de <strong>One-Hot Encoding</strong>, que convierte una sola columna categórica en varias columnas nuevas de ceros y unos. Este es un formato que el modelado sí entiende y le permite usar esa información valiosa para la predicción, sin crear una relación numérica falsa entre las categorías.\n",
        "<br><br>\n",
        "Además de los datos categóricos, aprendí que es igual de importante limpiar el resto de los datos, como eliminar columnas irrelevantes o filas con errores evidentes, para asegurar que el modelo aprenda solo de información útil y correcta.\n",
        "<br><br>\n",
        "\n",
        "---\n",
        "---\n",
        "#### ¿Qué opinas de los resultados que dieron el MSE y R²?, ¿Es un modelo adecuado para predecir el precio de la vivienda?\n",
        "<hr>\n",
        "Creo que el modelo es un buen punto de partida, pero no lo considero adecuado para predecir precios de viviendas en una situación real.\n",
        "<br><br>\n",
        "Por un lado, <strong>R² de aproximadamente 0.82 es bastante bueno</strong>. Esto me dice que el modelo logra explicar un 82% de por qué los precios de las casas varian, lo cual demuestra que las características que usamos son muy relevantes.\n",
        "<br><br>\n",
        "Sin embargo, el <strong>error promedio de predicción es de unos $155.000</strong>. Este número es la clave: un error tan grande hace que el modelo no sea confiable para tomar una decisión financiera real. Nadie querría arriesgarse a una tasación con ese margen de error.\n",
        "<br><br>\n",
        "En resumen, aunque el modelo demuestra que se puede predecir el precio, su precisión no es suficiente para ser considerado adecuado para un uso práctico."
      ],
      "metadata": {
        "id": "vxMPjVHsF6AI"
      }
    }
  ]
}